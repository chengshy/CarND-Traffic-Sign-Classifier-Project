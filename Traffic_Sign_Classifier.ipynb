{
 "cells": [
  {
   "cell_type": "markdown",
   "metadata": {
    "deletable": true,
    "editable": true
   },
   "source": [
    "# Self-Driving Car Engineer Nanodegree\n",
    "\n",
    "## Deep Learning\n",
    "\n",
    "## Project: Build a Traffic Sign Recognition Classifier\n",
    "\n",
    "In this notebook, a template is provided for you to implement your functionality in stages, which is required to successfully complete this project. If additional code is required that cannot be included in the notebook, be sure that the Python code is successfully imported and included in your submission if necessary. \n",
    "\n",
    "> **Note**: Once you have completed all of the code implementations, you need to finalize your work by exporting the iPython Notebook as an HTML document. Before exporting the notebook to html, all of the code cells need to have been run so that reviewers can see the final implementation and output. You can then export the notebook by using the menu above and navigating to  \\n\",\n",
    "    \"**File -> Download as -> HTML (.html)**. Include the finished document along with this notebook as your submission. \n",
    "\n",
    "In addition to implementing code, there is a writeup to complete. The writeup should be completed in a separate file, which can be either a markdown file or a pdf document. There is a [write up template](https://github.com/udacity/CarND-Traffic-Sign-Classifier-Project/blob/master/writeup_template.md) that can be used to guide the writing process. Completing the code template and writeup template will cover all of the [rubric points](https://review.udacity.com/#!/rubrics/481/view) for this project.\n",
    "\n",
    "The [rubric](https://review.udacity.com/#!/rubrics/481/view) contains \"Stand Out Suggestions\" for enhancing the project beyond the minimum requirements. The stand out suggestions are optional. If you decide to pursue the \"stand out suggestions\", you can include the code in this Ipython notebook and also discuss the results in the writeup file.\n",
    "\n",
    "\n",
    ">**Note:** Code and Markdown cells can be executed using the **Shift + Enter** keyboard shortcut. In addition, Markdown cells can be edited by typically double-clicking the cell to enter edit mode."
   ]
  },
  {
   "cell_type": "markdown",
   "metadata": {
    "deletable": true,
    "editable": true
   },
   "source": [
    "---\n",
    "## Step 0: Load The Data"
   ]
  },
  {
   "cell_type": "code",
   "execution_count": 2,
   "metadata": {
    "collapsed": false,
    "deletable": true,
    "editable": true
   },
   "outputs": [],
   "source": [
    "# Load pickled data\n",
    "import pickle\n",
    "\n",
    "# TODO: Fill this in based on where you saved the training and testing data\n",
    "\n",
    "training_file = 'traffic-signs-data/train.p'\n",
    "validation_file='traffic-signs-data/valid.p'\n",
    "testing_file = 'traffic-signs-data/test.p'\n",
    "\n",
    "with open(training_file, mode='rb') as f:\n",
    "    train = pickle.load(f)\n",
    "with open(validation_file, mode='rb') as f:\n",
    "    valid = pickle.load(f)\n",
    "with open(testing_file, mode='rb') as f:\n",
    "    test = pickle.load(f)\n",
    "    \n",
    "X_train, y_train = train['features'], train['labels']\n",
    "X_valid, y_valid = valid['features'], valid['labels']\n",
    "X_test, y_test = test['features'], test['labels']"
   ]
  },
  {
   "cell_type": "markdown",
   "metadata": {
    "deletable": true,
    "editable": true
   },
   "source": [
    "---\n",
    "\n",
    "## Step 1: Dataset Summary & Exploration\n",
    "\n",
    "The pickled data is a dictionary with 4 key/value pairs:\n",
    "\n",
    "- `'features'` is a 4D array containing raw pixel data of the traffic sign images, (num examples, width, height, channels).\n",
    "- `'labels'` is a 1D array containing the label/class id of the traffic sign. The file `signnames.csv` contains id -> name mappings for each id.\n",
    "- `'sizes'` is a list containing tuples, (width, height) representing the the original width and height the image.\n",
    "- `'coords'` is a list containing tuples, (x1, y1, x2, y2) representing coordinates of a bounding box around the sign in the image. **THESE COORDINATES ASSUME THE ORIGINAL IMAGE. THE PICKLED DATA CONTAINS RESIZED VERSIONS (32 by 32) OF THESE IMAGES**\n",
    "\n",
    "Complete the basic data summary below. Use python, numpy and/or pandas methods to calculate the data summary rather than hard coding the results. For example, the [pandas shape method](http://pandas.pydata.org/pandas-docs/stable/generated/pandas.DataFrame.shape.html) might be useful for calculating some of the summary results. "
   ]
  },
  {
   "cell_type": "markdown",
   "metadata": {
    "deletable": true,
    "editable": true
   },
   "source": [
    "### Provide a Basic Summary of the Data Set Using Python, Numpy and/or Pandas"
   ]
  },
  {
   "cell_type": "code",
   "execution_count": 3,
   "metadata": {
    "collapsed": false,
    "deletable": true,
    "editable": true
   },
   "outputs": [
    {
     "name": "stdout",
     "output_type": "stream",
     "text": [
      "Number of training examples = 34799\n",
      "Number of testing examples = 12630\n",
      "Image data shape = (32, 32, 3)\n",
      "Number of classes = 43\n"
     ]
    }
   ],
   "source": [
    "### Replace each question mark with the appropriate value. \n",
    "### Use python, pandas or numpy methods rather than hard coding the results\n",
    "import numpy as np\n",
    "# TODO: Number of training examples\n",
    "n_train = len(X_train)\n",
    "\n",
    "# TODO: Number of testing examples.\n",
    "n_test = len(X_test)\n",
    "\n",
    "# TODO: What's the shape of an traffic sign image?\n",
    "image_shape = X_train[0].shape\n",
    "\n",
    "# TODO: How many unique classes/labels there are in the dataset.\n",
    "n_classes = len(np.unique(y_train))\n",
    "\n",
    "print(\"Number of training examples =\", n_train)\n",
    "print(\"Number of testing examples =\", n_test)\n",
    "print(\"Image data shape =\", image_shape)\n",
    "print(\"Number of classes =\", n_classes)"
   ]
  },
  {
   "cell_type": "markdown",
   "metadata": {
    "deletable": true,
    "editable": true
   },
   "source": [
    "### Include an exploratory visualization of the dataset"
   ]
  },
  {
   "cell_type": "markdown",
   "metadata": {
    "deletable": true,
    "editable": true
   },
   "source": [
    "Visualize the German Traffic Signs Dataset using the pickled file(s). This is open ended, suggestions include: plotting traffic sign images, plotting the count of each sign, etc.\n",
    "\n",
    "The [Matplotlib](http://matplotlib.org/) [examples](http://matplotlib.org/examples/index.html) and [gallery](http://matplotlib.org/gallery.html) pages are a great resource for doing visualizations in Python.\n",
    "\n",
    "**NOTE:** It's recommended you start with something simple first. If you wish to do more, come back to it after you've completed the rest of the sections."
   ]
  },
  {
   "cell_type": "code",
   "execution_count": 106,
   "metadata": {
    "collapsed": false,
    "deletable": true,
    "editable": true
   },
   "outputs": [
    {
     "name": "stdout",
     "output_type": "stream",
     "text": [
      "27905\n",
      "3\n",
      "{0: 180, 1: 1980, 2: 2010, 3: 1260, 4: 1770, 5: 1650, 6: 360, 7: 1290, 8: 1260, 9: 1320, 10: 1800, 11: 1170, 12: 1890, 13: 1920, 14: 690, 15: 540, 16: 360, 17: 990, 18: 1080, 19: 180, 20: 300, 21: 270, 22: 330, 23: 450, 24: 240, 25: 1350, 26: 540, 27: 210, 28: 480, 29: 240, 30: 390, 31: 690, 32: 210, 33: 599, 34: 360, 35: 1080, 36: 330, 37: 180, 38: 1860, 39: 270, 40: 300, 41: 210, 42: 210}\n"
     ]
    },
    {
     "data": {
      "image/png": "[encoded data removed]",
      "text/plain": [
       "<matplotlib.figure.Figure at 0x1338f2518>"
      ]
     },
     "metadata": {},
     "output_type": "display_data"
    },
    {
     "data": {
      "image/png": "[encoded data removed]",
      "text/plain": [
       "<matplotlib.figure.Figure at 0x174f86390>"
      ]
     },
     "metadata": {},
     "output_type": "display_data"
    }
   ],
   "source": [
    "### Data exploration visualization code goes here.\n",
    "### Feel free to use as many code cells as needed.\n",
    "import matplotlib.pyplot as plt\n",
    "# Visualizations will be shown in the notebook.\n",
    "%matplotlib inline\n",
    "import random\n",
    "\n",
    "index = random.randint(0, len(X_train))\n",
    "image = X_train[index].squeeze()\n",
    "print(index)\n",
    "plt.figure(figsize=(1,1))\n",
    "plt.imshow(image)\n",
    "print(y_train[index])\n",
    "\n",
    "# Count the distribution of labels\n",
    "label_dict = {}\n",
    "for label in y_train:\n",
    "    if label not in label_dict.keys():\n",
    "        label_dict[label] = 1\n",
    "    else:\n",
    "        label_dict[label] += 1\n",
    "print(label_dict)\n",
    "\n",
    "fig = plt.figure(figsize=(12,5))\n",
    "ax = fig.add_subplot(111)\n",
    "plt.bar(range(0, 2*len(label_dict), 2), label_dict.values(), align='center')\n",
    "plt.xticks(range(0, 2*len(label_dict), 2), list(label_dict.keys()))\n",
    "ax.set_title('Label Distribution', fontsize=14, fontweight='bold')\n",
    "ax.set_xlabel('Class Label')\n",
    "ax.set_ylabel('Instances Number')\n",
    "plt.show()\n"
   ]
  },
  {
   "cell_type": "markdown",
   "metadata": {
    "deletable": true,
    "editable": true
   },
   "source": [
    "----\n",
    "\n",
    "## Step 2: Design and Test a Model Architecture\n",
    "\n",
    "Design and implement a deep learning model that learns to recognize traffic signs. Train and test your model on the [German Traffic Sign Dataset](http://benchmark.ini.rub.de/?section=gtsrb&subsection=dataset).\n",
    "\n",
    "There are various aspects to consider when thinking about this problem:\n",
    "\n",
    "- Neural network architecture\n",
    "- Play around preprocessing techniques (normalization, rgb to grayscale, etc)\n",
    "- Number of examples per label (some have more than others).\n",
    "- Generate fake data.\n",
    "\n",
    "Here is an example of a [published baseline model on this problem](http://yann.lecun.com/exdb/publis/pdf/sermanet-ijcnn-11.pdf). It's not required to be familiar with the approach used in the paper but, it's good practice to try to read papers like these.\n",
    "\n",
    "**NOTE:** The LeNet-5 implementation shown in the [classroom](https://classroom.udacity.com/nanodegrees/nd013/parts/fbf77062-5703-404e-b60c-95b78b2f3f9e/modules/6df7ae49-c61c-4bb2-a23e-6527e69209ec/lessons/601ae704-1035-4287-8b11-e2c2716217ad/concepts/d4aca031-508f-4e0b-b493-e7b706120f81) at the end of the CNN lesson is a solid starting point. You'll have to change the number of classes and possibly the preprocessing, but aside from that it's plug and play!"
   ]
  },
  {
   "cell_type": "markdown",
   "metadata": {
    "deletable": true,
    "editable": true
   },
   "source": [
    "### Pre-process the Data Set (normalization, grayscale, etc.)"
   ]
  },
  {
   "cell_type": "markdown",
   "metadata": {
    "deletable": true,
    "editable": true
   },
   "source": [
    "Use the code cell (or multiple code cells, if necessary) to implement the first step of your project."
   ]
  },
  {
   "cell_type": "code",
   "execution_count": 5,
   "metadata": {
    "collapsed": false,
    "deletable": true,
    "editable": true
   },
   "outputs": [],
   "source": [
    "### Function used to build jittered dataset\n",
    "import scipy.ndimage\n",
    "def image_translate(image, translation):\n",
    "    '''Move the image by translation in pixels'''\n",
    "    return scipy.ndimage.interpolation.shift(image,\n",
    "                                             (translation[0], translation[1], 0), \n",
    "                                             mode = 'nearest')\n",
    "\n",
    "def image_rotation(image, angle):\n",
    "    '''Rotate the image by angle in degrees'''\n",
    "    return scipy.ndimage.interpolation.rotate(image, \n",
    "                                              angle, reshape = False, \n",
    "                                              mode = 'nearest')\n",
    "\n",
    "def image_scale(image, scale):\n",
    "    '''Scale the image'''\n",
    "    zoom_image = scipy.ndimage.interpolation.zoom(image, \n",
    "                                                  (scale, scale, 1), \n",
    "                                                  mode='nearest')\n",
    "    height = zoom_image.shape[0]\n",
    "    if height > 32:\n",
    "        start_index = int((height - 32) / 2)\n",
    "        return zoom_image[start_index:start_index+32, start_index:start_index+32, :]\n",
    "    elif height < 32:\n",
    "        before_pad = int((32 - height) / 2)\n",
    "        after_pad = 32 - height - before_pad\n",
    "        return np.pad(zoom_image,\n",
    "                      ((before_pad, after_pad),(before_pad, after_pad),(0,0)),\n",
    "                      'edge')\n",
    "    else:\n",
    "        return zoom_image\n",
    "\n",
    "def image_blur(image, sigma):\n",
    "    '''Guassian blur the image'''\n",
    "    return scipy.ndimage.filters.gaussian_filter(image, sigma)\n",
    "\n",
    "def generate_random_instance(image):\n",
    "    '''Generate a new instance by random translation, rotation, scale, and blur'''\n",
    "    random_translation = np.random.randint(-2,3,2)\n",
    "    image = image_translate(image, random_translation)\n",
    "    \n",
    "    random_angle = random.randint(-15,15)\n",
    "    image = image_rotation(image, random_angle)\n",
    "    \n",
    "    random_scale = random.uniform(0.9, 1.1)\n",
    "    image = image_scale(image, random_scale)\n",
    "    \n",
    "    random_sigma = np.random.rand(3) * 1.5\n",
    "    random_sigma[2] = 0\n",
    "    image = image_blur(image, random_sigma)\n",
    "    \n",
    "    return image"
   ]
  },
  {
   "cell_type": "markdown",
   "metadata": {
    "deletable": true,
    "editable": true
   },
   "source": [
    "### Augment Dataset"
   ]
  },
  {
   "cell_type": "code",
   "execution_count": 6,
   "metadata": {
    "collapsed": false,
    "deletable": true,
    "editable": true,
    "scrolled": true
   },
   "outputs": [
    {
     "name": "stdout",
     "output_type": "stream",
     "text": [
      "Loading jittered dataset\n",
      "(173995, 32, 32, 3)\n",
      "(173995,)\n",
      "Jittered dataset is already exists\n"
     ]
    }
   ],
   "source": [
    "# Generate 5 random jittered data for each instance\n",
    "# This step gonna takes a while\n",
    "new_jitter_data = False\n",
    "fname = './traffic-signs-data/train_jittered.p'\n",
    "\n",
    "if new_jitter_data:\n",
    "    jitter_multiplier = 5\n",
    "    X_train_jittered = np.zeros((X_train.shape[0]*jitter_multiplier,\n",
    "                                 X_train.shape[1], X_train.shape[2],\n",
    "                                 X_train.shape[3]), dtype=np.uint8)\n",
    "    y_train_jittered = np.zeros(y_train.shape[0]*jitter_multiplier, dtype=np.uint8)\n",
    "\n",
    "    for i in range(X_train.shape[0]):\n",
    "        image = X_train[i]\n",
    "        label = y_train[i]\n",
    "        for j in range(jitter_multiplier):\n",
    "            jittered_image = generate_random_instance(image)\n",
    "            X_train_jittered[jitter_multiplier * i + j] = jittered_image\n",
    "            y_train_jittered[jitter_multiplier * i + j] = label\n",
    "else:\n",
    "    with open(fname, mode='rb') as f:\n",
    "        jittered_dataset = pickle.load(f)\n",
    "    print(\"Loading jittered dataset\")\n",
    "    X_train_jittered, y_train_jittered = jittered_dataset['features'], jittered_dataset['labels']\n",
    "    \n",
    "    \n",
    "print(X_train_jittered.shape)\n",
    "print(y_train_jittered.shape)\n",
    "\n",
    "import os.path\n",
    "\n",
    "if os.path.isfile(fname):\n",
    "    print(\"Jittered dataset is already exists\")\n",
    "else:\n",
    "    ## Dump the data to the file\n",
    "    print(\"Dumping jittered dataset\")\n",
    "    jitter_train_data = {'features': X_train_jittered, 'labels': y_train_jittered}\n",
    "    pickle.dump(jitter_train_data, open(fname, 'wb'))"
   ]
  },
  {
   "cell_type": "markdown",
   "metadata": {
    "deletable": true,
    "editable": true
   },
   "source": [
    "### Preprocessing the datasets"
   ]
  },
  {
   "cell_type": "code",
   "execution_count": 7,
   "metadata": {
    "collapsed": false,
    "deletable": true,
    "editable": true
   },
   "outputs": [],
   "source": [
    "import cv2\n",
    "def image_preprocess(image):\n",
    "    # Convert to YUV space\n",
    "    image_yuv = cv2.cvtColor(image, cv2.COLOR_RGB2YUV)\n",
    "    # Only use the Y Channel\n",
    "    image_y = image_yuv[:,:,0]\n",
    "    # Gloabl and local contrast normalization\n",
    "    clahe = cv2.createCLAHE()\n",
    "    image_clahe = clahe.apply(image_y)\n",
    "    return image_clahe\n",
    "\n",
    "from sklearn.utils import shuffle\n",
    "def dataset_preprocess(data_x, data_y):\n",
    "    assert(len(data_x) == len(data_y))\n",
    "    data_x_preprocessed = np.zeros((len(data_x,), 32, 32), dtype=np.float32)\n",
    "    for i in range(len(data_x)):\n",
    "        image_preprocessed = image_preprocess(data_x[i])\n",
    "        data_x_preprocessed[i] = image_preprocessed / 255.\n",
    "    data_x_preprocessed = data_x_preprocessed.reshape((len(data_x_preprocessed), 32, 32, 1))\n",
    "    # shuffle dataset\n",
    "    data_x_preprocessed, data_y_preprocessed = shuffle(data_x_preprocessed, data_y)\n",
    "    return (data_x_preprocessed, data_y_preprocessed)"
   ]
  },
  {
   "cell_type": "code",
   "execution_count": 8,
   "metadata": {
    "collapsed": false,
    "deletable": true,
    "editable": true
   },
   "outputs": [],
   "source": [
    "### Preprocess original training data\n",
    "X_train, y_train = dataset_preprocess(X_train, y_train)"
   ]
  },
  {
   "cell_type": "code",
   "execution_count": 9,
   "metadata": {
    "collapsed": true,
    "deletable": true,
    "editable": true
   },
   "outputs": [],
   "source": [
    "### Preprocess jittered training data\n",
    "X_train_jittered, y_train_jittered = dataset_preprocess(X_train_jittered, y_train_jittered)"
   ]
  },
  {
   "cell_type": "code",
   "execution_count": 10,
   "metadata": {
    "collapsed": false,
    "deletable": true,
    "editable": true
   },
   "outputs": [],
   "source": [
    "### Dump preprocessed dataset\n",
    "# X_train = X_train.reshape((len(X_train), 32, 32, 1))\n",
    "# X_train_jittered = X_train_jittered.reshape((len(X_train_jittered),32,32,1))\n",
    "# train_data_preprocessed = {'features': X_train, 'labels': y_train}\n",
    "# pickle.dump(train_data_preprocessed, open('traffic-signs-data/train_preprocessed.p', 'wb'))\n",
    "# jitter_train_data_preprocessed = {'features': X_train_jittered, 'labels': y_train_jittered}\n",
    "# pickle.dump(jitter_train_data_preprocessed, open('traffic-signs-data/train_jittered_preprocessed.p', 'wb'))"
   ]
  },
  {
   "cell_type": "code",
   "execution_count": 11,
   "metadata": {
    "collapsed": false,
    "deletable": true,
    "editable": true
   },
   "outputs": [
    {
     "name": "stdout",
     "output_type": "stream",
     "text": [
      "(208794, 32, 32, 1)\n",
      "(208794,)\n"
     ]
    }
   ],
   "source": [
    "### Concatenate training data and shuffle again\n",
    "X_train_all = np.concatenate((X_train, X_train_jittered), axis = 0)\n",
    "y_train_all = np.concatenate((y_train, y_train_jittered), axis = 0)\n",
    "print(X_train_all.shape)\n",
    "print(y_train_all.shape)\n",
    "X_train_all, y_train_all = shuffle(X_train_all, y_train_all)\n",
    "train_data_all = {'features': X_train_all, 'labels': y_train_all}\n",
    "pickle.dump(train_data_all, open('traffic-signs-data/train_all.p','wb'))"
   ]
  },
  {
   "cell_type": "code",
   "execution_count": 12,
   "metadata": {
    "collapsed": true,
    "deletable": true,
    "editable": true
   },
   "outputs": [],
   "source": [
    "### Preprocess the test and validation data\n",
    "X_test, y_test = dataset_preprocess(X_test, y_test)\n",
    "X_valid, y_valid = dataset_preprocess(X_valid, y_valid)"
   ]
  },
  {
   "cell_type": "code",
   "execution_count": 13,
   "metadata": {
    "collapsed": false,
    "deletable": true,
    "editable": true
   },
   "outputs": [
    {
     "name": "stdout",
     "output_type": "stream",
     "text": [
      "(12630, 32, 32, 1) float32\n",
      "(4410, 32, 32, 1) float32\n"
     ]
    }
   ],
   "source": [
    "print(X_test.shape, X_test.dtype)\n",
    "print(X_valid.shape, X_valid.dtype)"
   ]
  },
  {
   "cell_type": "markdown",
   "metadata": {
    "deletable": true,
    "editable": true
   },
   "source": [
    "### Model Architecture"
   ]
  },
  {
   "cell_type": "code",
   "execution_count": 14,
   "metadata": {
    "collapsed": false,
    "deletable": true,
    "editable": true
   },
   "outputs": [],
   "source": [
    "### Define your architecture here.\n",
    "### Feel free to use as many code cells as needed.\n",
    "import tensorflow as tf\n",
    "\n",
    "EPOCHS = 100 \n",
    "BATCH_SIZE = 512"
   ]
  },
  {
   "cell_type": "code",
   "execution_count": 15,
   "metadata": {
    "collapsed": true,
    "deletable": true,
    "editable": true
   },
   "outputs": [],
   "source": [
    "from tensorflow.contrib.layers import flatten\n",
    "\n",
    "def LeNet_MS(x):    \n",
    "    # Arguments used for tf.truncated_normal, randomly defines variables for the weights and biases for each layer\n",
    "    mu = 0\n",
    "    sigma = 0.1\n",
    "    \n",
    "    # SOLUTION: Layer 1: Convolutional. Input = 32x32x1. Output = 28x28x6.\n",
    "    conv1_W = tf.Variable(tf.truncated_normal(shape=(5, 5, 1, 6), mean = mu, stddev = sigma))\n",
    "    conv1_b = tf.Variable(tf.zeros(6))\n",
    "    conv1   = tf.nn.conv2d(x, conv1_W, strides=[1, 1, 1, 1], padding='VALID') + conv1_b\n",
    "\n",
    "    # SOLUTION: Activation.\n",
    "    # conv1 = tf.nn.relu(conv1)\n",
    "    conv1 = tf.abs(tf.nn.tanh(conv1))\n",
    "\n",
    "    # SOLUTION: Pooling. Input = 28x28x6. Output = 14x14x6.\n",
    "    conv1 = tf.nn.max_pool(conv1, ksize=[1, 2, 2, 1], strides=[1, 2, 2, 1], padding='VALID')\n",
    "\n",
    "    # SOLUTION: Layer 2: Convolutional. Output = 10x10x16.\n",
    "    conv2_W = tf.Variable(tf.truncated_normal(shape=(5, 5, 6, 16), mean = mu, stddev = sigma))\n",
    "    conv2_b = tf.Variable(tf.zeros(16))\n",
    "    conv2   = tf.nn.conv2d(conv1, conv2_W, strides=[1, 1, 1, 1], padding='VALID') + conv2_b\n",
    "    \n",
    "    # SOLUTION: Activation.\n",
    "    #conv2 = tf.nn.relu(conv2)\n",
    "    conv2 = tf.abs(tf.nn.tanh(conv2))\n",
    "\n",
    "    # SOLUTION: Pooling. Input = 10x10x16. Output = 5x5x16.\n",
    "    conv2 = tf.nn.max_pool(conv2, ksize=[1, 2, 2, 1], strides=[1, 2, 2, 1], padding='VALID')\n",
    "\n",
    "    # SOLUTION: Layer1 Flatten. Input = 14*14*6. Output = 1176.\n",
    "    fc0_1 = flatten(conv1)\n",
    "    \n",
    "    # SOLUTION: Layer2 Flatten. Input = 5x5x16. Output = 400.\n",
    "    fc0_2 = flatten(conv2)\n",
    "    \n",
    "    # SOLUTION: Layer 3: Fully Connected. Input = 400. Output = 108.\n",
    "    fc1_1_W = tf.Variable(tf.truncated_normal(shape=(1176, 108), mean = mu, stddev = sigma))\n",
    "    fc1_1_b = tf.Variable(tf.zeros(108))\n",
    "    fc1_1   = tf.matmul(fc0_1, fc1_1_W) + fc1_1_b\n",
    "    \n",
    "    fc1_2_W = tf.Variable(tf.truncated_normal(shape=(400, 108), mean = mu, stddev = sigma))\n",
    "    fc1_2_b = tf.Variable(tf.zeros(108))\n",
    "    fc1_2   = tf.matmul(fc0_2, fc1_2_W) + fc1_2_b\n",
    "    \n",
    "    #Concatenate Multi-Scale Layer Features\n",
    "    # Different Version Tensorflow has different API\n",
    "    fc1 = tf.concat([fc1_1, fc1_2], 1)\n",
    "    \n",
    "    # SOLUTION: Activation.\n",
    "    # fc1    = tf.nn.relu(fc1)\n",
    "    fc1 = tf.abs(tf.nn.tanh(fc1))\n",
    "\n",
    "    # SOLUTION: Layer 4: Fully Connected. Input = 216. Output = 100.\n",
    "    fc2_W  = tf.Variable(tf.truncated_normal(shape=(216, 100), mean = mu, stddev = sigma))\n",
    "    fc2_b  = tf.Variable(tf.zeros(100))\n",
    "    fc2    = tf.matmul(fc1, fc2_W) + fc2_b\n",
    "    \n",
    "    # SOLUTION: Activation.\n",
    "    # fc2    = tf.nn.relu(fc2)\n",
    "    fc2 = tf.abs(tf.nn.tanh(fc2)) \n",
    "\n",
    "    # SOLUTION: Layer 5: Fully Connected. Input = 100. Output = 43.\n",
    "    fc3_W  = tf.Variable(tf.truncated_normal(shape=(100, 43), mean = mu, stddev = sigma))\n",
    "    fc3_b  = tf.Variable(tf.zeros(43))\n",
    "    logits = tf.matmul(fc2, fc3_W) + fc3_b\n",
    "    \n",
    "    return logits"
   ]
  },
  {
   "cell_type": "code",
   "execution_count": 16,
   "metadata": {
    "collapsed": true,
    "deletable": true,
    "editable": true
   },
   "outputs": [],
   "source": [
    "## Sinagle scale\n",
    "def LeNet_SS(x):    \n",
    "    # Arguments used for tf.truncated_normal, randomly defines variables for the weights and biases for each layer\n",
    "    mu = 0\n",
    "    sigma = 0.1\n",
    "    \n",
    "    # SOLUTION: Layer 1: Convolutional. Input = 32x32x1. Output = 28x28x6.\n",
    "    conv1_W = tf.Variable(tf.truncated_normal(shape=(5, 5, 1, 6), mean = mu, stddev = sigma))\n",
    "    conv1_b = tf.Variable(tf.zeros(6))\n",
    "    conv1   = tf.nn.conv2d(x, conv1_W, strides=[1, 1, 1, 1], padding='VALID') + conv1_b\n",
    "\n",
    "    # SOLUTION: Activation.\n",
    "    # conv1 = tf.nn.relu(conv1)\n",
    "    conv1 = tf.abs(tf.nn.tanh(conv1))\n",
    "\n",
    "    # SOLUTION: Pooling. Input = 28x28x6. Output = 14x14x6.\n",
    "    conv1 = tf.nn.max_pool(conv1, ksize=[1, 2, 2, 1], strides=[1, 2, 2, 1], padding='VALID')\n",
    "\n",
    "    # SOLUTION: Layer 2: Convolutional. Output = 10x10x16.\n",
    "    conv2_W = tf.Variable(tf.truncated_normal(shape=(5, 5, 6, 16), mean = mu, stddev = sigma))\n",
    "    conv2_b = tf.Variable(tf.zeros(16))\n",
    "    conv2   = tf.nn.conv2d(conv1, conv2_W, strides=[1, 1, 1, 1], padding='VALID') + conv2_b\n",
    "    \n",
    "    # SOLUTION: Activation.\n",
    "    #conv2 = tf.nn.relu(conv2)\n",
    "    conv2 = tf.abs(tf.nn.tanh(conv2))\n",
    "\n",
    "    # SOLUTION: Pooling. Input = 10x10x16. Output = 5x5x16.\n",
    "    conv2 = tf.nn.max_pool(conv2, ksize=[1, 2, 2, 1], strides=[1, 2, 2, 1], padding='VALID')\n",
    "    \n",
    "    # SOLUTION: Layer2 Flatten. Input = 5x5x16. Output = 400.\n",
    "    fc0 = flatten(conv2)\n",
    "    \n",
    "    # SOLUTION: Layer 3: Fully Connected. Input = 400. Output = 108.\n",
    "    fc1_W = tf.Variable(tf.truncated_normal(shape=(400, 108), mean = mu, stddev = sigma))\n",
    "    fc1_b = tf.Variable(tf.zeros(108))\n",
    "    fc1 = tf.matmul(fc0, fc1_W) + fc1_b\n",
    "    \n",
    "    # SOLUTION: Activation.\n",
    "    # fc1    = tf.nn.relu(fc1)\n",
    "    fc1 = tf.abs(tf.nn.tanh(fc1))\n",
    "\n",
    "    # SOLUTION: Layer 4: Fully Connected. Input = 108. Output = 100.\n",
    "    fc2_W  = tf.Variable(tf.truncated_normal(shape=(108, 100), mean = mu, stddev = sigma))\n",
    "    fc2_b  = tf.Variable(tf.zeros(100))\n",
    "    fc2    = tf.matmul(fc1, fc2_W) + fc2_b\n",
    "    \n",
    "    # SOLUTION: Activation.\n",
    "    # fc2    = tf.nn.relu(fc2)\n",
    "    fc2 = tf.abs(tf.nn.tanh(fc2)) \n",
    "\n",
    "    # SOLUTION: Layer 5: Fully Connected. Input = 100. Output = 43.\n",
    "    fc3_W  = tf.Variable(tf.truncated_normal(shape=(100, 43), mean = mu, stddev = sigma))\n",
    "    fc3_b  = tf.Variable(tf.zeros(43))\n",
    "    logits = tf.matmul(fc2, fc3_W) + fc3_b\n",
    "    \n",
    "    return logits"
   ]
  },
  {
   "cell_type": "markdown",
   "metadata": {
    "deletable": true,
    "editable": true
   },
   "source": [
    "### Train, Validate and Test the Model"
   ]
  },
  {
   "cell_type": "markdown",
   "metadata": {
    "deletable": true,
    "editable": true
   },
   "source": [
    "A validation set can be used to assess how well the model is performing. A low accuracy on the training and validation\n",
    "sets imply underfitting. A high accuracy on the training set but low accuracy on the validation set implies overfitting."
   ]
  },
  {
   "cell_type": "code",
   "execution_count": 17,
   "metadata": {
    "collapsed": false,
    "deletable": true,
    "editable": true,
    "scrolled": false
   },
   "outputs": [],
   "source": [
    "### Train your model here.\n",
    "### Calculate and report the accuracy on the training and validation set.\n",
    "### Once a final model architecture is selected, \n",
    "### the accuracy on the test set should be calculated and reported as well.\n",
    "### Feel free to use as many code cells as needed.\n",
    "\n",
    "\n",
    "x = tf.placeholder(tf.float32, (None, 32, 32, 1))\n",
    "y = tf.placeholder(tf.int32, (None))\n",
    "one_hot_y = tf.one_hot(y, 43)\n",
    "\n",
    "rate = 0.0015\n",
    "\n",
    "logits = LeNet_MS(x)\n",
    "\n",
    "weight_class_flag = True\n",
    "\n",
    "### The dataset is imbalance in numbers\n",
    "### Weighted the logits based on training distribution\n",
    "class_weight = np.zeros((1, 43), dtype=np.float32)\n",
    "for i in range(43):\n",
    "    class_weight[0,i] = 1. - (label_dict[i] / (n_train + 0.))\n",
    "\n",
    "class_weight = tf.constant(class_weight)\n",
    "weight_per_label = tf.transpose( tf.matmul(one_hot_y, tf.transpose(class_weight)) )\n",
    "\n",
    "cross_entropy = tf.nn.softmax_cross_entropy_with_logits(labels = one_hot_y, logits = logits)\n",
    "\n",
    "if weight_class_flag:\n",
    "    weighted_entropy = weight_per_label * cross_entropy\n",
    "    loss_operation = tf.reduce_mean(weighted_entropy)\n",
    "else:\n",
    "    loss_operation = tf.reduce_mean(cross_entropy)\n",
    "    \n",
    "optimizer = tf.train.AdamOptimizer(learning_rate = rate)\n",
    "training_operation = optimizer.minimize(loss_operation)"
   ]
  },
  {
   "cell_type": "code",
   "execution_count": 18,
   "metadata": {
    "collapsed": false,
    "deletable": true,
    "editable": true
   },
   "outputs": [],
   "source": [
    "## Model Evaluation\n",
    "correct_prediction = tf.equal(tf.argmax(logits, 1), tf.argmax(one_hot_y, 1))\n",
    "accuracy_operation = tf.reduce_mean(tf.cast(correct_prediction, tf.float32))\n",
    "saver = tf.train.Saver()\n",
    "\n",
    "def evaluate(X_data, y_data):\n",
    "    num_examples = len(X_data)\n",
    "    total_accuracy = 0\n",
    "    sess = tf.get_default_session()\n",
    "    for offset in range(0, num_examples, BATCH_SIZE):\n",
    "        batch_x, batch_y = X_data[offset:offset+BATCH_SIZE], y_data[offset:offset+BATCH_SIZE]\n",
    "        accuracy = sess.run(accuracy_operation, feed_dict={x: batch_x, y: batch_y})\n",
    "        total_accuracy += (accuracy * len(batch_x))\n",
    "    return total_accuracy / num_examples"
   ]
  },
  {
   "cell_type": "code",
   "execution_count": 62,
   "metadata": {
    "collapsed": false,
    "deletable": true,
    "editable": true,
    "scrolled": true
   },
   "outputs": [
    {
     "name": "stdout",
     "output_type": "stream",
     "text": [
      "Training...\n",
      "\n",
      "EPOCH 1 ...\n",
      "Loss = 3.2307019\n",
      "Validation Accuracy = 0.1571\n",
      "Train Accuracy = 0.1687\n",
      "Training time = 1.8693\n",
      "Evaluation time = 3.1839\n",
      "\n",
      "EPOCH 2 ...\n",
      "Loss = 2.4205675\n",
      "Validation Accuracy = 0.3732\n",
      "Train Accuracy = 0.3526\n",
      "Training time = 1.7363\n",
      "Evaluation time = 3.1243\n",
      "\n",
      "EPOCH 3 ...\n",
      "Loss = 1.9454571\n",
      "Validation Accuracy = 0.5057\n",
      "Train Accuracy = 0.4705\n",
      "Training time = 1.7644\n",
      "Evaluation time = 3.1092\n",
      "\n",
      "EPOCH 4 ...\n",
      "Loss = 1.6030865\n",
      "Validation Accuracy = 0.6215\n",
      "Train Accuracy = 0.5549\n",
      "Training time = 1.7737\n",
      "Evaluation time = 3.1107\n",
      "\n",
      "EPOCH 5 ...\n",
      "Loss = 1.4056922\n",
      "Validation Accuracy = 0.7050\n",
      "Train Accuracy = 0.6392\n",
      "Training time = 1.7648\n",
      "Evaluation time = 3.1460\n",
      "\n",
      "EPOCH 6 ...\n",
      "Loss = 1.1976378\n",
      "Validation Accuracy = 0.7692\n",
      "Train Accuracy = 0.6909\n",
      "Training time = 1.7648\n",
      "Evaluation time = 3.0966\n",
      "\n",
      "EPOCH 7 ...\n",
      "Loss = 1.0518000\n",
      "Validation Accuracy = 0.7957\n",
      "Train Accuracy = 0.7284\n",
      "Training time = 1.7745\n",
      "Evaluation time = 3.1340\n",
      "\n",
      "EPOCH 8 ...\n",
      "Loss = 0.8705696\n",
      "Validation Accuracy = 0.8095\n",
      "Train Accuracy = 0.7550\n",
      "Training time = 1.7672\n",
      "Evaluation time = 3.1257\n",
      "\n",
      "EPOCH 9 ...\n",
      "Loss = 0.8066275\n",
      "Validation Accuracy = 0.8392\n",
      "Train Accuracy = 0.7798\n",
      "Training time = 1.7736\n",
      "Evaluation time = 3.1473\n",
      "\n",
      "EPOCH 10 ...\n",
      "Loss = 0.7109061\n",
      "Validation Accuracy = 0.8497\n",
      "Train Accuracy = 0.7941\n",
      "Training time = 1.7713\n",
      "Evaluation time = 3.1204\n",
      "\n",
      "EPOCH 11 ...\n",
      "Loss = 0.6925337\n",
      "Validation Accuracy = 0.8707\n",
      "Train Accuracy = 0.8109\n",
      "Training time = 1.7723\n",
      "Evaluation time = 3.1441\n",
      "\n",
      "EPOCH 12 ...\n",
      "Loss = 0.6232466\n",
      "Validation Accuracy = 0.8764\n",
      "Train Accuracy = 0.8218\n",
      "Training time = 1.7676\n",
      "Evaluation time = 3.1243\n",
      "\n",
      "EPOCH 13 ...\n",
      "Loss = 0.6249456\n",
      "Validation Accuracy = 0.8805\n",
      "Train Accuracy = 0.8302\n",
      "Training time = 1.7739\n",
      "Evaluation time = 3.1385\n",
      "\n",
      "EPOCH 14 ...\n",
      "Loss = 0.5589992\n",
      "Validation Accuracy = 0.8866\n",
      "Train Accuracy = 0.8450\n",
      "Training time = 1.7704\n",
      "Evaluation time = 3.1525\n",
      "\n",
      "EPOCH 15 ...\n",
      "Loss = 0.4932080\n",
      "Validation Accuracy = 0.8957\n",
      "Train Accuracy = 0.8482\n",
      "Training time = 1.7728\n",
      "Evaluation time = 3.1646\n",
      "\n",
      "EPOCH 16 ...\n",
      "Loss = 0.5264099\n",
      "Validation Accuracy = 0.9054\n",
      "Train Accuracy = 0.8617\n",
      "Training time = 1.7619\n",
      "Evaluation time = 3.1399\n",
      "\n",
      "EPOCH 17 ...\n",
      "Loss = 0.5408512\n",
      "Validation Accuracy = 0.9073\n",
      "Train Accuracy = 0.8683\n",
      "Training time = 1.7733\n",
      "Evaluation time = 3.1459\n",
      "\n",
      "EPOCH 18 ...\n",
      "Loss = 0.4060938\n",
      "Validation Accuracy = 0.9259\n",
      "Train Accuracy = 0.8734\n",
      "Training time = 1.7667\n",
      "Evaluation time = 3.1522\n",
      "\n",
      "EPOCH 19 ...\n",
      "Loss = 0.3936961\n",
      "Validation Accuracy = 0.9132\n",
      "Train Accuracy = 0.8806\n",
      "Training time = 1.7727\n",
      "Evaluation time = 3.1515\n",
      "\n",
      "EPOCH 20 ...\n",
      "Loss = 0.4315586\n",
      "Validation Accuracy = 0.9252\n",
      "Train Accuracy = 0.8814\n",
      "Training time = 1.7789\n",
      "Evaluation time = 3.1659\n",
      "\n",
      "EPOCH 21 ...\n",
      "Loss = 0.4211861\n",
      "Validation Accuracy = 0.9270\n",
      "Train Accuracy = 0.8867\n",
      "Training time = 1.7682\n",
      "Evaluation time = 3.1384\n",
      "\n",
      "EPOCH 22 ...\n",
      "Loss = 0.3620418\n",
      "Validation Accuracy = 0.9256\n",
      "Train Accuracy = 0.8911\n",
      "Training time = 1.7658\n",
      "Evaluation time = 3.1386\n",
      "\n",
      "EPOCH 23 ...\n",
      "Loss = 0.3590159\n",
      "Validation Accuracy = 0.9363\n",
      "Train Accuracy = 0.8931\n",
      "Training time = 1.7693\n",
      "Evaluation time = 3.1497\n",
      "\n",
      "EPOCH 24 ...\n",
      "Loss = 0.3727046\n",
      "Validation Accuracy = 0.9388\n",
      "Train Accuracy = 0.8965\n",
      "Training time = 1.7697\n",
      "Evaluation time = 3.1431\n",
      "\n",
      "EPOCH 25 ...\n",
      "Loss = 0.3146728\n",
      "Validation Accuracy = 0.9431\n",
      "Train Accuracy = 0.9008\n",
      "Training time = 1.7774\n",
      "Evaluation time = 3.1644\n",
      "\n",
      "EPOCH 26 ...\n",
      "Loss = 0.2997251\n",
      "Validation Accuracy = 0.9415\n",
      "Train Accuracy = 0.9060\n",
      "Training time = 1.7719\n",
      "Evaluation time = 3.1492\n",
      "\n",
      "EPOCH 27 ...\n",
      "Loss = 0.2741727\n",
      "Validation Accuracy = 0.9431\n",
      "Train Accuracy = 0.9089\n",
      "Training time = 1.7867\n",
      "Evaluation time = 3.1465\n",
      "\n",
      "EPOCH 28 ...\n",
      "Loss = 0.3006119\n",
      "Validation Accuracy = 0.9438\n",
      "Train Accuracy = 0.9062\n",
      "Training time = 1.7773\n",
      "Evaluation time = 3.1453\n",
      "\n",
      "EPOCH 29 ...\n",
      "Loss = 0.3212950\n",
      "Validation Accuracy = 0.9508\n",
      "Train Accuracy = 0.9069\n",
      "Training time = 1.7768\n",
      "Evaluation time = 3.1485\n",
      "\n",
      "EPOCH 30 ...\n",
      "Loss = 0.2529589\n",
      "Validation Accuracy = 0.9476\n",
      "Train Accuracy = 0.9104\n",
      "Training time = 1.7736\n",
      "Evaluation time = 3.0734\n",
      "\n",
      "EPOCH 31 ...\n",
      "Loss = 0.2759373\n",
      "Validation Accuracy = 0.9535\n",
      "Train Accuracy = 0.9180\n",
      "Training time = 1.7652\n",
      "Evaluation time = 3.1281\n",
      "\n",
      "EPOCH 32 ...\n",
      "Loss = 0.2990929\n",
      "Validation Accuracy = 0.9508\n",
      "Train Accuracy = 0.9159\n",
      "Training time = 1.7852\n",
      "Evaluation time = 3.1611\n",
      "\n",
      "EPOCH 33 ...\n",
      "Loss = 0.2751918\n",
      "Validation Accuracy = 0.9395\n",
      "Train Accuracy = 0.9108\n",
      "Training time = 1.7662\n",
      "Evaluation time = 3.1319\n",
      "\n",
      "EPOCH 34 ...\n",
      "Loss = 0.2486404\n",
      "Validation Accuracy = 0.9553\n",
      "Train Accuracy = 0.9240\n",
      "Training time = 1.7804\n",
      "Evaluation time = 3.1804\n",
      "\n",
      "EPOCH 35 ...\n",
      "Loss = 0.2773370\n",
      "Validation Accuracy = 0.9494\n",
      "Train Accuracy = 0.9163\n",
      "Training time = 1.7900\n",
      "Evaluation time = 3.1911\n",
      "\n",
      "EPOCH 36 ...\n",
      "Loss = 0.2420012\n",
      "Validation Accuracy = 0.9583\n",
      "Train Accuracy = 0.9293\n",
      "Training time = 1.7694\n",
      "Evaluation time = 3.1333\n",
      "\n",
      "EPOCH 37 ...\n",
      "Loss = 0.2211656\n",
      "Validation Accuracy = 0.9546\n",
      "Train Accuracy = 0.9236\n",
      "Training time = 1.7645\n",
      "Evaluation time = 3.1244\n",
      "\n",
      "EPOCH 38 ...\n",
      "Loss = 0.2845994\n",
      "Validation Accuracy = 0.9587\n",
      "Train Accuracy = 0.9277\n",
      "Training time = 1.7666\n",
      "Evaluation time = 3.1405\n",
      "\n",
      "EPOCH 39 ...\n",
      "Loss = 0.2043496\n",
      "Validation Accuracy = 0.9605\n",
      "Train Accuracy = 0.9337\n",
      "Training time = 1.7822\n",
      "Evaluation time = 3.1927\n",
      "\n",
      "EPOCH 40 ...\n",
      "Loss = 0.2117039\n",
      "Validation Accuracy = 0.9558\n",
      "Train Accuracy = 0.9300\n",
      "Training time = 1.7789\n",
      "Evaluation time = 3.1788\n",
      "\n",
      "EPOCH 41 ...\n",
      "Loss = 0.2056762\n",
      "Validation Accuracy = 0.9549\n",
      "Train Accuracy = 0.9310\n",
      "Training time = 1.7769\n",
      "Evaluation time = 3.0722\n",
      "\n",
      "EPOCH 42 ...\n",
      "Loss = 0.2154654\n",
      "Validation Accuracy = 0.9556\n",
      "Train Accuracy = 0.9357\n",
      "Training time = 1.7655\n",
      "Evaluation time = 3.1288\n",
      "\n",
      "EPOCH 43 ...\n",
      "Loss = 0.2467873\n",
      "Validation Accuracy = 0.9537\n",
      "Train Accuracy = 0.9344\n",
      "Training time = 1.7770\n",
      "Evaluation time = 3.1462\n",
      "\n",
      "EPOCH 44 ...\n",
      "Loss = 0.1953609\n",
      "Validation Accuracy = 0.9612\n",
      "Train Accuracy = 0.9409\n",
      "Training time = 1.7704\n",
      "Evaluation time = 3.1407\n",
      "\n",
      "EPOCH 45 ...\n",
      "Loss = 0.2214167\n",
      "Validation Accuracy = 0.9576\n",
      "Train Accuracy = 0.9330\n",
      "Training time = 1.7747\n",
      "Evaluation time = 3.1493\n",
      "\n",
      "EPOCH 46 ...\n",
      "Loss = 0.1882401\n",
      "Validation Accuracy = 0.9608\n",
      "Train Accuracy = 0.9375\n",
      "Training time = 1.7734\n",
      "Evaluation time = 3.1500\n",
      "\n",
      "EPOCH 47 ...\n",
      "Loss = 0.2002387\n",
      "Validation Accuracy = 0.9601\n",
      "Train Accuracy = 0.9371\n",
      "Training time = 1.7746\n",
      "Evaluation time = 3.1616\n",
      "\n",
      "EPOCH 48 ...\n",
      "Loss = 0.2105018\n",
      "Validation Accuracy = 0.9660\n",
      "Train Accuracy = 0.9373\n",
      "Training time = 1.7752\n",
      "Evaluation time = 3.1661\n",
      "\n",
      "EPOCH 49 ...\n",
      "Loss = 0.2235566\n",
      "Validation Accuracy = 0.9646\n",
      "Train Accuracy = 0.9419\n",
      "Training time = 1.7837\n",
      "Evaluation time = 3.1578\n",
      "\n",
      "EPOCH 50 ...\n",
      "Loss = 0.2124293\n",
      "Validation Accuracy = 0.9594\n",
      "Train Accuracy = 0.9402\n",
      "Training time = 1.7715\n",
      "Evaluation time = 3.1479\n",
      "\n",
      "EPOCH 51 ...\n",
      "Loss = 0.2228975\n",
      "Validation Accuracy = 0.9621\n",
      "Train Accuracy = 0.9368\n",
      "Training time = 1.7802\n",
      "Evaluation time = 3.2136\n",
      "\n",
      "EPOCH 52 ...\n",
      "Loss = 0.1860711\n",
      "Validation Accuracy = 0.9601\n",
      "Train Accuracy = 0.9412\n",
      "Training time = 1.7744\n",
      "Evaluation time = 3.1698\n",
      "\n",
      "EPOCH 53 ...\n",
      "Loss = 0.2140739\n",
      "Validation Accuracy = 0.9678\n",
      "Train Accuracy = 0.9505\n",
      "Training time = 1.7919\n",
      "Evaluation time = 3.1911\n",
      "\n",
      "EPOCH 54 ...\n",
      "Loss = 0.1592673\n",
      "Validation Accuracy = 0.9676\n",
      "Train Accuracy = 0.9475\n",
      "Training time = 1.7818\n",
      "Evaluation time = 3.1532\n",
      "\n",
      "EPOCH 55 ...\n",
      "Loss = 0.1772847\n",
      "Validation Accuracy = 0.9633\n",
      "Train Accuracy = 0.9433\n",
      "Training time = 1.7737\n",
      "Evaluation time = 3.1629\n",
      "\n",
      "EPOCH 56 ...\n",
      "Loss = 0.1418353\n",
      "Validation Accuracy = 0.9664\n",
      "Train Accuracy = 0.9459\n",
      "Training time = 1.7725\n",
      "Evaluation time = 3.1673\n",
      "\n",
      "EPOCH 57 ...\n",
      "Loss = 0.1316893\n",
      "Validation Accuracy = 0.9651\n",
      "Train Accuracy = 0.9481\n",
      "Training time = 1.7787\n",
      "Evaluation time = 3.1770\n",
      "\n",
      "EPOCH 58 ...\n",
      "Loss = 0.2071467\n",
      "Validation Accuracy = 0.9710\n",
      "Train Accuracy = 0.9502\n",
      "Training time = 1.7727\n",
      "Evaluation time = 3.1460\n",
      "\n",
      "EPOCH 59 ...\n",
      "Loss = 0.1525404\n",
      "Validation Accuracy = 0.9680\n",
      "Train Accuracy = 0.9500\n",
      "Training time = 1.7707\n",
      "Evaluation time = 3.1711\n",
      "\n",
      "EPOCH 60 ...\n",
      "Loss = 0.1666357\n",
      "Validation Accuracy = 0.9723\n",
      "Train Accuracy = 0.9538\n",
      "Training time = 1.7781\n",
      "Evaluation time = 3.1489\n",
      "\n",
      "EPOCH 61 ...\n",
      "Loss = 0.1750803\n",
      "Validation Accuracy = 0.9730\n",
      "Train Accuracy = 0.9506\n",
      "Training time = 1.7770\n",
      "Evaluation time = 3.1594\n",
      "\n",
      "EPOCH 62 ...\n",
      "Loss = 0.1451220\n",
      "Validation Accuracy = 0.9617\n",
      "Train Accuracy = 0.9502\n",
      "Training time = 1.7718\n",
      "Evaluation time = 3.1476\n",
      "\n",
      "EPOCH 63 ...\n",
      "Loss = 0.1670892\n",
      "Validation Accuracy = 0.9664\n",
      "Train Accuracy = 0.9505\n",
      "Training time = 1.7758\n",
      "Evaluation time = 3.1872\n",
      "\n",
      "EPOCH 64 ...\n",
      "Loss = 0.1705578\n",
      "Validation Accuracy = 0.9705\n",
      "Train Accuracy = 0.9568\n",
      "Training time = 1.7741\n",
      "Evaluation time = 3.1721\n",
      "\n",
      "EPOCH 65 ...\n",
      "Loss = 0.1167447\n",
      "Validation Accuracy = 0.9707\n",
      "Train Accuracy = 0.9535\n",
      "Training time = 1.7833\n",
      "Evaluation time = 3.1899\n",
      "\n",
      "EPOCH 66 ...\n",
      "Loss = 0.1460905\n",
      "Validation Accuracy = 0.9644\n",
      "Train Accuracy = 0.9546\n",
      "Training time = 1.7784\n",
      "Evaluation time = 3.1573\n",
      "\n",
      "EPOCH 67 ...\n",
      "Loss = 0.1351918\n",
      "Validation Accuracy = 0.9707\n",
      "Train Accuracy = 0.9570\n",
      "Training time = 1.7776\n",
      "Evaluation time = 3.1668\n",
      "\n",
      "EPOCH 68 ...\n",
      "Loss = 0.1568243\n",
      "Validation Accuracy = 0.9698\n",
      "Train Accuracy = 0.9524\n",
      "Training time = 1.7744\n",
      "Evaluation time = 3.1535\n",
      "\n",
      "EPOCH 69 ...\n",
      "Loss = 0.1393762\n",
      "Validation Accuracy = 0.9721\n",
      "Train Accuracy = 0.9585\n",
      "Training time = 1.7751\n",
      "Evaluation time = 3.1592\n",
      "\n",
      "EPOCH 70 ...\n",
      "Loss = 0.2108269\n",
      "Validation Accuracy = 0.9710\n",
      "Train Accuracy = 0.9590\n",
      "Training time = 1.7810\n",
      "Evaluation time = 3.1511\n",
      "\n",
      "EPOCH 71 ...\n",
      "Loss = 0.1510382\n",
      "Validation Accuracy = 0.9696\n",
      "Train Accuracy = 0.9544\n",
      "Training time = 1.7878\n",
      "Evaluation time = 3.1901\n",
      "\n",
      "EPOCH 72 ...\n",
      "Loss = 0.1483734\n",
      "Validation Accuracy = 0.9626\n",
      "Train Accuracy = 0.9500\n",
      "Training time = 1.8113\n",
      "Evaluation time = 3.1720\n",
      "\n",
      "EPOCH 73 ...\n",
      "Loss = 0.1137176\n",
      "Validation Accuracy = 0.9596\n",
      "Train Accuracy = 0.9557\n",
      "Training time = 1.7829\n",
      "Evaluation time = 3.1701\n",
      "\n",
      "EPOCH 74 ...\n",
      "Loss = 0.0981657\n",
      "Validation Accuracy = 0.9676\n",
      "Train Accuracy = 0.9597\n",
      "Training time = 1.7745\n",
      "Evaluation time = 3.1378\n",
      "\n",
      "EPOCH 75 ...\n",
      "Loss = 0.1748615\n",
      "Validation Accuracy = 0.9599\n",
      "Train Accuracy = 0.9561\n",
      "Training time = 1.7682\n",
      "Evaluation time = 3.1960\n",
      "\n",
      "EPOCH 76 ...\n",
      "Loss = 0.1321968\n",
      "Validation Accuracy = 0.9644\n",
      "Train Accuracy = 0.9591\n",
      "Training time = 1.7707\n",
      "Evaluation time = 3.1353\n",
      "\n",
      "EPOCH 77 ...\n",
      "Loss = 0.1259316\n",
      "Validation Accuracy = 0.9719\n",
      "Train Accuracy = 0.9619\n",
      "Training time = 1.7738\n",
      "Evaluation time = 3.1419\n",
      "\n",
      "EPOCH 78 ...\n",
      "Loss = 0.1297479\n",
      "Validation Accuracy = 0.9637\n",
      "Train Accuracy = 0.9612\n",
      "Training time = 1.7678\n",
      "Evaluation time = 3.1369\n",
      "\n",
      "EPOCH 79 ...\n",
      "Loss = 0.1100200\n",
      "Validation Accuracy = 0.9669\n",
      "Train Accuracy = 0.9642\n",
      "Training time = 1.7686\n",
      "Evaluation time = 3.1576\n",
      "\n",
      "EPOCH 80 ...\n",
      "Loss = 0.1530758\n",
      "Validation Accuracy = 0.9680\n",
      "Train Accuracy = 0.9599\n",
      "Training time = 1.7842\n",
      "Evaluation time = 3.2014\n",
      "\n",
      "EPOCH 81 ...\n",
      "Loss = 0.1340865\n",
      "Validation Accuracy = 0.9678\n",
      "Train Accuracy = 0.9625\n",
      "Training time = 1.7842\n",
      "Evaluation time = 3.1626\n",
      "\n",
      "EPOCH 82 ...\n",
      "Loss = 0.1485162\n",
      "Validation Accuracy = 0.9676\n",
      "Train Accuracy = 0.9609\n",
      "Training time = 1.7712\n",
      "Evaluation time = 3.1461\n",
      "\n",
      "EPOCH 83 ...\n",
      "Loss = 0.1551940\n",
      "Validation Accuracy = 0.9669\n",
      "Train Accuracy = 0.9639\n",
      "Training time = 1.7712\n",
      "Evaluation time = 3.1613\n",
      "\n",
      "EPOCH 84 ...\n",
      "Loss = 0.1229453\n",
      "Validation Accuracy = 0.9524\n",
      "Train Accuracy = 0.9476\n",
      "Training time = 1.7756\n",
      "Evaluation time = 3.1442\n",
      "\n",
      "EPOCH 85 ...\n",
      "Loss = 0.1154850\n",
      "Validation Accuracy = 0.9712\n",
      "Train Accuracy = 0.9634\n",
      "Training time = 1.7710\n",
      "Evaluation time = 3.1585\n",
      "\n",
      "EPOCH 86 ...\n",
      "Loss = 0.1421340\n",
      "Validation Accuracy = 0.9746\n",
      "Train Accuracy = 0.9674\n",
      "Training time = 1.7735\n",
      "Evaluation time = 3.1499\n",
      "\n",
      "EPOCH 87 ...\n",
      "Loss = 0.1656015\n",
      "Validation Accuracy = 0.9710\n",
      "Train Accuracy = 0.9600\n",
      "Training time = 1.7761\n",
      "Evaluation time = 3.1193\n",
      "\n",
      "EPOCH 88 ...\n",
      "Loss = 0.1303905\n",
      "Validation Accuracy = 0.9746\n",
      "Train Accuracy = 0.9681\n",
      "Training time = 1.7604\n",
      "Evaluation time = 3.1523\n",
      "\n",
      "EPOCH 89 ...\n",
      "Loss = 0.0941537\n",
      "Validation Accuracy = 0.9721\n",
      "Train Accuracy = 0.9645\n",
      "Training time = 1.7716\n",
      "Evaluation time = 3.1372\n",
      "\n",
      "EPOCH 90 ...\n",
      "Loss = 0.1267612\n",
      "Validation Accuracy = 0.9619\n",
      "Train Accuracy = 0.9650\n",
      "Training time = 1.7745\n",
      "Evaluation time = 3.1221\n",
      "\n",
      "EPOCH 91 ...\n",
      "Loss = 0.1101857\n",
      "Validation Accuracy = 0.9692\n",
      "Train Accuracy = 0.9606\n",
      "Training time = 1.7748\n",
      "Evaluation time = 3.1511\n",
      "\n",
      "EPOCH 92 ...\n",
      "Loss = 0.0722370\n",
      "Validation Accuracy = 0.9694\n",
      "Train Accuracy = 0.9669\n",
      "Training time = 1.7704\n",
      "Evaluation time = 3.1492\n",
      "\n",
      "EPOCH 93 ...\n",
      "Loss = 0.1188701\n",
      "Validation Accuracy = 0.9739\n",
      "Train Accuracy = 0.9693\n",
      "Training time = 1.7825\n",
      "Evaluation time = 3.1726\n",
      "\n",
      "EPOCH 94 ...\n",
      "Loss = 0.0989911\n",
      "Validation Accuracy = 0.9687\n",
      "Train Accuracy = 0.9643\n",
      "Training time = 1.7761\n",
      "Evaluation time = 3.1382\n",
      "\n",
      "EPOCH 95 ...\n",
      "Loss = 0.0996582\n",
      "Validation Accuracy = 0.9721\n",
      "Train Accuracy = 0.9627\n",
      "Training time = 1.7743\n",
      "Evaluation time = 3.1544\n",
      "\n",
      "EPOCH 96 ...\n",
      "Loss = 0.1087457\n",
      "Validation Accuracy = 0.9696\n",
      "Train Accuracy = 0.9667\n",
      "Training time = 1.7703\n",
      "Evaluation time = 3.2013\n",
      "\n",
      "EPOCH 97 ...\n",
      "Loss = 0.1298887\n",
      "Validation Accuracy = 0.9753\n",
      "Train Accuracy = 0.9682\n",
      "Training time = 1.7999\n",
      "Evaluation time = 3.1877\n",
      "\n",
      "EPOCH 98 ...\n",
      "Loss = 0.1379522\n",
      "Validation Accuracy = 0.9649\n",
      "Train Accuracy = 0.9681\n",
      "Training time = 1.7714\n",
      "Evaluation time = 3.1156\n",
      "\n",
      "EPOCH 99 ...\n",
      "Loss = 0.1106094\n",
      "Validation Accuracy = 0.9735\n",
      "Train Accuracy = 0.9687\n",
      "Training time = 1.7727\n",
      "Evaluation time = 3.1321\n",
      "\n",
      "EPOCH 100 ...\n",
      "Loss = 0.1296724\n",
      "Validation Accuracy = 0.9723\n",
      "Train Accuracy = 0.9698\n",
      "Training time = 1.7786\n",
      "Evaluation time = 3.1270\n",
      "\n",
      "Model saved\n"
     ]
    }
   ],
   "source": [
    "import time\n",
    "valid_acc_list = []\n",
    "train_acc_list = []\n",
    "loss_list = []\n",
    "with tf.Session() as sess:\n",
    "    sess.run(tf.global_variables_initializer())\n",
    "    num_examples = len(X_train)\n",
    "    \n",
    "    print(\"Training...\")\n",
    "    print()\n",
    "    for i in range(EPOCHS):\n",
    "        t1 = time.time()\n",
    "        X_train_all, y_train_all = shuffle(X_train_all, y_train_all)\n",
    "        for offset in range(0, num_examples, BATCH_SIZE):\n",
    "            end = offset + BATCH_SIZE\n",
    "            batch_x, batch_y = X_train_all[offset:end], y_train_all[offset:end]\n",
    "            _, loss_val = sess.run([training_operation, loss_operation], feed_dict={x: batch_x, y: batch_y})\n",
    "        t2 = time.time()\n",
    "        validation_accuracy = evaluate(X_valid, y_valid)\n",
    "        train_accuracy = evaluate(X_train_all, y_train_all)\n",
    "        t3 = time.time()\n",
    "        \n",
    "        valid_acc_list.append(validation_accuracy)\n",
    "        train_acc_list.append(train_accuracy)\n",
    "        loss_list.append(loss_val)\n",
    "        \n",
    "        print(\"EPOCH {} ...\".format(i+1))\n",
    "        print(\"Loss = {:.7f}\".format(loss_val))\n",
    "        print(\"Validation Accuracy = {:.4f}\".format(validation_accuracy))\n",
    "        print(\"Train Accuracy = {:.4f}\".format(train_accuracy))\n",
    "        print(\"Training time = {:.4f}\".format(t2 - t1))\n",
    "        print(\"Evaluation time = {:.4f}\".format(t3 - t2))\n",
    "        print()\n",
    "        \n",
    "    saver.save(sess, './traffic-signs-model/LeNet_MS')\n",
    "    print(\"Model saved\")"
   ]
  },
  {
   "cell_type": "code",
   "execution_count": 63,
   "metadata": {
    "collapsed": false,
    "deletable": true,
    "editable": true
   },
   "outputs": [
    {
     "data": {
      "image/png": "[encoded data removed]",
      "text/plain": [
       "<matplotlib.figure.Figure at 0x7fbdc4170390>"
      ]
     },
     "metadata": {},
     "output_type": "display_data"
    }
   ],
   "source": [
    "### Visualize the leanrng curve \n",
    "fig, ax = plt.subplots()\n",
    "epos = range(0, EPOCHS)\n",
    "line1, = ax.plot(epos, valid_acc_list, '*-', linewidth=1,\n",
    "                 label='Validation Accuracy')\n",
    "line2, = ax.plot(epos, train_acc_list, '.-', linewidth=1,\n",
    "                 label='Train Accuracy')\n",
    "ax.legend(loc = 'lower right')\n",
    "ax.grid(True)\n",
    "plt.show()"
   ]
  },
  {
   "cell_type": "code",
   "execution_count": 24,
   "metadata": {
    "collapsed": false,
    "deletable": true,
    "editable": true
   },
   "outputs": [
    {
     "name": "stdout",
     "output_type": "stream",
     "text": [
      "Test Accuracy = 0.0594\n"
     ]
    }
   ],
   "source": [
    "# Evaluate the model with test dataset\n",
    "with tf.Session() as sess:\n",
    "    saver.restore(sess, tf.train.latest_checkpoint('./traffic-signs-model/'))\n",
    "\n",
    "    test_accuracy = evaluate(X_test, y_test)\n",
    "    print(\"Test Accuracy = {:.4f}\".format(test_accuracy))"
   ]
  },
  {
   "cell_type": "markdown",
   "metadata": {
    "deletable": true,
    "editable": true
   },
   "source": [
    "---\n",
    "\n",
    "## Step 3: Test a Model on New Images\n",
    "\n",
    "To give yourself more insight into how your model is working, download at least five pictures of German traffic signs from the web and use your model to predict the traffic sign type.\n",
    "\n",
    "You may find `signnames.csv` useful as it contains mappings from the class id (integer) to the actual sign name."
   ]
  },
  {
   "cell_type": "markdown",
   "metadata": {
    "deletable": true,
    "editable": true
   },
   "source": [
    "### Load and Output the Images"
   ]
  },
  {
   "cell_type": "code",
   "execution_count": 19,
   "metadata": {
    "collapsed": false,
    "deletable": true,
    "editable": true
   },
   "outputs": [],
   "source": [
    "### Load the images and plot them here.\n",
    "### Feel free to use as many code cells as needed.\n",
    "import os\n",
    "\n",
    "def load_images_from_folder(folder):\n",
    "    images = []\n",
    "    for filename in os.listdir(folder):\n",
    "        if '.jpg' in filename:\n",
    "            img = plt.imread(os.path.join(folder,filename))\n",
    "            if img is not None:\n",
    "                images.append(img)\n",
    "    return images\n",
    "\n",
    "def preprocess_images_to_dataset(images):\n",
    "    dataset = np.zeros((len(images), 32, 32), dtype=np.float32)\n",
    "    for i in range(len(images)):\n",
    "        image = images[i]\n",
    "        image = scipy.misc.imresize(image, (32,32,3))\n",
    "        dataset[i] = image_preprocess(image) / 255.\n",
    "    return dataset.reshape(len(images), 32, 32, 1)"
   ]
  },
  {
   "cell_type": "code",
   "execution_count": 27,
   "metadata": {
    "collapsed": false,
    "scrolled": true
   },
   "outputs": [
    {
     "name": "stdout",
     "output_type": "stream",
     "text": [
      "(7, 32, 32, 1)\n",
      "float32\n",
      "(7,)\n",
      "uint8\n"
     ]
    },
    {
     "data": {
      "image/png": "[encoded data removed]",
      "text/plain": [
       "<matplotlib.figure.Figure at 0x174761278>"
      ]
     },
     "metadata": {},
     "output_type": "display_data"
    },
    {
     "data": {
      "image/png": "[encoded data removed]",
      "text/plain": [
       "<matplotlib.figure.Figure at 0x11054f940>"
      ]
     },
     "metadata": {},
     "output_type": "display_data"
    },
    {
     "data": {
      "image/png": "[encoded data removed]",
      "text/plain": [
       "<matplotlib.figure.Figure at 0x1756ae828>"
      ]
     },
     "metadata": {},
     "output_type": "display_data"
    },
    {
     "data": {
      "image/png": "[encoded data removed]",
      "text/plain": [
       "<matplotlib.figure.Figure at 0x16f138b00>"
      ]
     },
     "metadata": {},
     "output_type": "display_data"
    },
    {
     "data": {
      "image/png": "[encoded data removed]",
      "text/plain": [
       "<matplotlib.figure.Figure at 0x1751c7d68>"
      ]
     },
     "metadata": {},
     "output_type": "display_data"
    },
    {
     "data": {
      "image/png": "[encoded data removed]",
      "text/plain": [
       "<matplotlib.figure.Figure at 0x13378d080>"
      ]
     },
     "metadata": {},
     "output_type": "display_data"
    },
    {
     "data": {
      "image/png": "[encoded data removed]",
      "text/plain": [
       "<matplotlib.figure.Figure at 0x1337d4208>"
      ]
     },
     "metadata": {},
     "output_type": "display_data"
    }
   ],
   "source": [
    "folder_name = './web_test_images'\n",
    "web_test_images = load_images_from_folder(folder_name)\n",
    "\n",
    "## Show the orignal images\n",
    "for web_test_image in web_test_images:\n",
    "    fig = plt.figure(figsize=(1,1))\n",
    "    plt.imshow(web_test_image)\n",
    "    \n",
    "## Preprocess the images \n",
    "X_web = preprocess_images_to_dataset(web_test_images)\n",
    "print(X_web.shape)\n",
    "print(X_web.dtype)\n",
    "y_web = np.array([17, 40, 17, 8, 5, 1, 13], dtype=np.uint8)\n",
    "print(y_web.shape)\n",
    "print(y_web.dtype)"
   ]
  },
  {
   "cell_type": "markdown",
   "metadata": {
    "deletable": true,
    "editable": true
   },
   "source": [
    "### Predict the Sign Type for Each Image"
   ]
  },
  {
   "cell_type": "code",
   "execution_count": 108,
   "metadata": {
    "collapsed": false,
    "deletable": true,
    "editable": true
   },
   "outputs": [
    {
     "name": "stdout",
     "output_type": "stream",
     "text": [
      "Web image Test Accuracy = 0.0000\n",
      "Predicted label is:  [2 2 2 2 2 2 2]\n"
     ]
    }
   ],
   "source": [
    "### Run the predictions here and use the model to output the prediction for each image.\n",
    "### Make sure to pre-process the images with the same pre-processing pipeline used earlier.\n",
    "### Feel free to use as many code cells as needed.\n",
    "# Evaluate the model with web dataset\n",
    "predict_label = tf.argmax(logits, 1)\n",
    "def evaluate_web(X_data, y_data):\n",
    "    sess = tf.get_default_session()\n",
    "    accuracy, predict_ouput = sess.run([accuracy_operation, predict_label], feed_dict={x: X_data, y: y_data})\n",
    "    return (accuracy, predict_ouput)\n",
    "\n",
    "with tf.Session() as sess:\n",
    "    saver.restore(sess, tf.train.latest_checkpoint('./traffic-signs-model/'))\n",
    "    test_accuracy, predict_output = evaluate_web(X_web, y_web)\n",
    "    print(\"Web image Test Accuracy = {:.4f}\".format(test_accuracy))\n",
    "    print(\"Predicted label is: \", predict_output)"
   ]
  },
  {
   "cell_type": "markdown",
   "metadata": {
    "deletable": true,
    "editable": true
   },
   "source": [
    "### Output Top 5 Softmax Probabilities For Each Image Found on the Web"
   ]
  },
  {
   "cell_type": "markdown",
   "metadata": {
    "deletable": true,
    "editable": true
   },
   "source": [
    "For each of the new images, print out the model's softmax probabilities to show the **certainty** of the model's predictions (limit the output to the top 5 probabilities for each image). [`tf.nn.top_k`](https://www.tensorflow.org/versions/r0.12/api_docs/python/nn.html#top_k) could prove helpful here. \n",
    "\n",
    "The example below demonstrates how tf.nn.top_k can be used to find the top k predictions for each image.\n",
    "\n",
    "`tf.nn.top_k` will return the values and indices (class ids) of the top k predictions. So if k=3, for each sign, it'll return the 3 largest probabilities (out of a possible 43) and the correspoding class ids.\n",
    "\n",
    "Take this numpy array as an example. The values in the array represent predictions. The array contains softmax probabilities for five candidate images with six possible classes. `tk.nn.top_k` is used to choose the three classes with the highest probability:\n",
    "\n",
    "```\n",
    "# (5, 6) array\n",
    "a = np.array([[ 0.24879643,  0.07032244,  0.12641572,  0.34763842,  0.07893497,\n",
    "         0.12789202],\n",
    "       [ 0.28086119,  0.27569815,  0.08594638,  0.0178669 ,  0.18063401,\n",
    "         0.15899337],\n",
    "       [ 0.26076848,  0.23664738,  0.08020603,  0.07001922,  0.1134371 ,\n",
    "         0.23892179],\n",
    "       [ 0.11943333,  0.29198961,  0.02605103,  0.26234032,  0.1351348 ,\n",
    "         0.16505091],\n",
    "       [ 0.09561176,  0.34396535,  0.0643941 ,  0.16240774,  0.24206137,\n",
    "         0.09155967]])\n",
    "```\n",
    "\n",
    "Running it through `sess.run(tf.nn.top_k(tf.constant(a), k=3))` produces:\n",
    "\n",
    "```\n",
    "TopKV2(values=array([[ 0.34763842,  0.24879643,  0.12789202],\n",
    "       [ 0.28086119,  0.27569815,  0.18063401],\n",
    "       [ 0.26076848,  0.23892179,  0.23664738],\n",
    "       [ 0.29198961,  0.26234032,  0.16505091],\n",
    "       [ 0.34396535,  0.24206137,  0.16240774]]), indices=array([[3, 0, 5],\n",
    "       [0, 1, 4],\n",
    "       [0, 5, 1],\n",
    "       [1, 3, 5],\n",
    "       [1, 4, 3]], dtype=int32))\n",
    "```\n",
    "\n",
    "Looking just at the first row we get `[ 0.34763842,  0.24879643,  0.12789202]`, you can confirm these are the 3 largest probabilities in `a`. You'll also notice `[3, 0, 5]` are the corresponding indices."
   ]
  },
  {
   "cell_type": "code",
   "execution_count": 110,
   "metadata": {
    "collapsed": false,
    "deletable": true,
    "editable": true
   },
   "outputs": [
    {
     "name": "stdout",
     "output_type": "stream",
     "text": [
      "TopKV2(values=array([[ 0.07209607,  0.04016838,  0.03888614,  0.03869526,  0.03771663],\n",
      "       [ 0.07559786,  0.04350262,  0.03760179,  0.03639824,  0.03639214],\n",
      "       [ 0.06797349,  0.045745  ,  0.03705987,  0.03623008,  0.03333237],\n",
      "       [ 0.06786187,  0.04751831,  0.03684327,  0.03357769,  0.03305929],\n",
      "       [ 0.06504612,  0.04285982,  0.03888266,  0.0338629 ,  0.03206363],\n",
      "       [ 0.06449066,  0.04501458,  0.04219507,  0.04115679,  0.03557625],\n",
      "       [ 0.07258419,  0.0457459 ,  0.04386607,  0.03768073,  0.03661356]], dtype=float32), indices=array([[ 2, 19, 22, 37, 18],\n",
      "       [ 2, 19, 18, 37, 32],\n",
      "       [ 2, 19, 37, 18, 32],\n",
      "       [ 2, 19, 37, 20, 11],\n",
      "       [ 2, 19, 37, 18, 25],\n",
      "       [ 2, 19, 37, 18, 22],\n",
      "       [ 2, 19, 18, 22, 32]], dtype=int32))\n"
     ]
    }
   ],
   "source": [
    "### Print out the top five softmax probabilities for the predictions on the German traffic sign images found on the web. \n",
    "### Feel free to use as many code cells as needed.\n",
    "top5 = tf.nn.top_k(tf.nn.softmax(logits), k=5)\n",
    "\n",
    "with tf.Session() as sess:\n",
    "    saver.restore(sess, tf.train.latest_checkpoint('./traffic-signs-model/'))\n",
    "    top5_label = sess.run(top5, feed_dict={x: X_web, y: y_web})\n",
    "    print(top5_label)"
   ]
  },
  {
   "cell_type": "markdown",
   "metadata": {
    "deletable": true,
    "editable": true
   },
   "source": [
    "---\n",
    "\n",
    "## Step 4: Visualize the Neural Network's State with Test Images\n",
    "\n",
    " This Section is not required to complete but acts as an additional excersise for understaning the output of a neural network's weights. While neural networks can be a great learning device they are often referred to as a black box. We can understand what the weights of a neural network look like better by plotting their feature maps. After successfully training your neural network you can see what it's feature maps look like by plotting the output of the network's weight layers in response to a test stimuli image. From these plotted feature maps, it's possible to see what characteristics of an image the network finds interesting. For a sign, maybe the inner network feature maps react with high activation to the sign's boundary outline or to the contrast in the sign's painted symbol.\n",
    "\n",
    " Provided for you below is the function code that allows you to get the visualization output of any tensorflow weight layer you want. The inputs to the function should be a stimuli image, one used during training or a new one you provided, and then the tensorflow variable name that represents the layer's state during the training process, for instance if you wanted to see what the [LeNet lab's](https://classroom.udacity.com/nanodegrees/nd013/parts/fbf77062-5703-404e-b60c-95b78b2f3f9e/modules/6df7ae49-c61c-4bb2-a23e-6527e69209ec/lessons/601ae704-1035-4287-8b11-e2c2716217ad/concepts/d4aca031-508f-4e0b-b493-e7b706120f81) feature maps looked like for it's second convolutional layer you could enter conv2 as the tf_activation variable.\n",
    "\n",
    "For an example of what feature map outputs look like, check out NVIDIA's results in their paper [End-to-End Deep Learning for Self-Driving Cars](https://devblogs.nvidia.com/parallelforall/deep-learning-self-driving-cars/) in the section Visualization of internal CNN State. NVIDIA was able to show that their network's inner weights had high activations to road boundary lines by comparing feature maps from an image with a clear path to one without. Try experimenting with a similar test to show that your trained network's weights are looking for interesting features, whether it's looking at differences in feature maps from images with or without a sign, or even what feature maps look like in a trained network vs a completely untrained one on the same sign image.\n",
    "\n",
    "<figure>\n",
    " <img src=\"visualize_cnn.png\" width=\"380\" alt=\"Combined Image\" />\n",
    " <figcaption>\n",
    " <p></p> \n",
    " <p style=\"text-align: center;\"> Your output should look something like this (above)</p> \n",
    " </figcaption>\n",
    "</figure>\n",
    " <p></p> \n"
   ]
  },
  {
   "cell_type": "code",
   "execution_count": null,
   "metadata": {
    "collapsed": true,
    "deletable": true,
    "editable": true
   },
   "outputs": [],
   "source": [
    "### Visualize your network's feature maps here.\n",
    "### Feel free to use as many code cells as needed.\n",
    "\n",
    "# image_input: the test image being fed into the network to produce the feature maps\n",
    "# tf_activation: should be a tf variable name used during your training procedure that represents the calculated state of a specific weight layer\n",
    "# activation_min/max: can be used to view the activation contrast in more detail, by default matplot sets min and max to the actual min and max values of the output\n",
    "# plt_num: used to plot out multiple different weight feature map sets on the same block, just extend the plt number for each new feature map entry\n",
    "\n",
    "def outputFeatureMap(image_input, tf_activation, activation_min=-1, activation_max=-1 ,plt_num=1):\n",
    "    # Here make sure to preprocess your image_input in a way your network expects\n",
    "    # with size, normalization, ect if needed\n",
    "    # image_input =\n",
    "    # Note: x should be the same name as your network's tensorflow data placeholder variable\n",
    "    # If you get an error tf_activation is not defined it maybe having trouble accessing the variable from inside a function\n",
    "    activation = tf_activation.eval(session=sess,feed_dict={x : image_input})\n",
    "    featuremaps = activation.shape[3]\n",
    "    plt.figure(plt_num, figsize=(15,15))\n",
    "    for featuremap in range(featuremaps):\n",
    "        plt.subplot(6,8, featuremap+1) # sets the number of feature maps to show on each row and column\n",
    "        plt.title('FeatureMap ' + str(featuremap)) # displays the feature map number\n",
    "        if activation_min != -1 & activation_max != -1:\n",
    "            plt.imshow(activation[0,:,:, featuremap], interpolation=\"nearest\", vmin =activation_min, vmax=activation_max, cmap=\"gray\")\n",
    "        elif activation_max != -1:\n",
    "            plt.imshow(activation[0,:,:, featuremap], interpolation=\"nearest\", vmax=activation_max, cmap=\"gray\")\n",
    "        elif activation_min !=-1:\n",
    "            plt.imshow(activation[0,:,:, featuremap], interpolation=\"nearest\", vmin=activation_min, cmap=\"gray\")\n",
    "        else:\n",
    "            plt.imshow(activation[0,:,:, featuremap], interpolation=\"nearest\", cmap=\"gray\")"
   ]
  },
  {
   "cell_type": "markdown",
   "metadata": {
    "deletable": true,
    "editable": true
   },
   "source": [
    "### Question 9\n",
    "\n",
    "Discuss how you used the visual output of your trained network's feature maps to show that it had learned to look for interesting characteristics in traffic sign images\n"
   ]
  },
  {
   "cell_type": "markdown",
   "metadata": {
    "deletable": true,
    "editable": true
   },
   "source": [
    "**Answer:**"
   ]
  },
  {
   "cell_type": "markdown",
   "metadata": {
    "deletable": true,
    "editable": true
   },
   "source": [
    "> **Note**: Once you have completed all of the code implementations and successfully answered each question above, you may finalize your work by exporting the iPython Notebook as an HTML document. You can do this by using the menu above and navigating to  \\n\",\n",
    "    \"**File -> Download as -> HTML (.html)**. Include the finished document along with this notebook as your submission."
   ]
  },
  {
   "cell_type": "markdown",
   "metadata": {
    "deletable": true,
    "editable": true
   },
   "source": [
    "### Project Writeup\n",
    "\n",
    "Once you have completed the code implementation, document your results in a project writeup using this [template](https://github.com/udacity/CarND-Traffic-Sign-Classifier-Project/blob/master/writeup_template.md) as a guide. The writeup can be in a markdown or pdf file. "
   ]
  }
 ],
 "metadata": {
  "anaconda-cloud": {},
  "kernelspec": {
   "display_name": "Python 3",
   "language": "python",
   "name": "python3"
  },
  "widgets": {
   "state": {},
   "version": "1.1.2"
  }
 },
 "nbformat": 4,
 "nbformat_minor": 1
}
